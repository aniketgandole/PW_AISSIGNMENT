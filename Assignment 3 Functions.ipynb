{
 "cells": [
  {
   "cell_type": "raw",
   "id": "1606b306-9904-43f9-a11c-feb1c1f5ad85",
   "metadata": {},
   "source": [
    "Theory Questions:"
   ]
  },
  {
   "cell_type": "raw",
   "id": "abbe2117-b557-485a-ab51-1f90f9b0b202",
   "metadata": {},
   "source": [
    "1. What is the difference between a function and a method in Python?"
   ]
  },
  {
   "cell_type": "raw",
   "id": "cee1c61f-3251-415e-8b6c-1830d608136f",
   "metadata": {},
   "source": [
    "Function: A function in Python is a reusable block of code that performs a specific task and is defined using the def keyword. Functions can be defined at the module level or inside another function or class. They do not inherently operate on any particular object and are generally used to perform operations that are not tied to a class or object state."
   ]
  },
  {
   "cell_type": "code",
   "execution_count": 1,
   "id": "797e58e6-5d50-4edf-970c-3802354406ef",
   "metadata": {},
   "outputs": [
    {
     "name": "stdout",
     "output_type": "stream",
     "text": [
      "50\n"
     ]
    }
   ],
   "source": [
    "##ex\n",
    "def multiply(x, y):  # Function definition\n",
    "    return x * y\n",
    "\n",
    "result = multiply(5, 10)  # Function call\n",
    "print(result)  # Output: 50\n",
    "## The multiply function takes two arguments and returns their product. It can be called from anywhere in the code where it is accessible."
   ]
  },
  {
   "cell_type": "raw",
   "id": "81dee743-cbcd-4273-a796-9c177351e202",
   "metadata": {},
   "source": [
    "Method: A method is similar to a function but is defined within a class and is associated with the instances of that class. \n",
    "It can operate on the data contained within the class and is typically used to define the behaviors of an object."
   ]
  },
  {
   "cell_type": "code",
   "execution_count": 2,
   "id": "72239107-ff79-4d46-96cb-7ff648003cea",
   "metadata": {},
   "outputs": [
    {
     "name": "stdout",
     "output_type": "stream",
     "text": [
      "50\n"
     ]
    }
   ],
   "source": [
    "class Calculator:\n",
    "    def multiply(self, x, y):  # Method definition\n",
    "        return x * y\n",
    "\n",
    "calc = Calculator()  # Creating an instance of Calculator\n",
    "result = calc.multiply(5, 10)  # Method call\n",
    "print(result)  # Output: 50\n",
    "##The multiply method is defined inside the Calculator class. \n",
    "##It operates on the instance of the class (self) and can access or modify the instance’s attributes if needed."
   ]
  },
  {
   "cell_type": "raw",
   "id": "f3fc933a-8457-4035-b0a0-b37050684d8b",
   "metadata": {},
   "source": [
    "2. Explain the concept of function arguments and parameters in Python."
   ]
  },
  {
   "cell_type": "raw",
   "id": "fea6b8ec-7aee-4bff-87b4-88d53d9e042a",
   "metadata": {},
   "source": [
    "Parameters: Parameters are variables listed as part of a function’s definition.\n",
    "They act as placeholders for the values that will be passed into \n",
    "the function when it is called. They allow the function to accept input values."
   ]
  },
  {
   "cell_type": "code",
   "execution_count": 3,
   "id": "84ce5b8c-3a25-4bd8-a1cd-8f7333eb066e",
   "metadata": {},
   "outputs": [],
   "source": [
    "def power(base, exponent):  # Parameters: base, exponent\n",
    "    return base ** exponent\n",
    "## In the power function, base and exponent are parameters. They specify the values that the function will use when it is called."
   ]
  },
  {
   "cell_type": "raw",
   "id": "237a6870-4b85-495a-b198-478767d577be",
   "metadata": {},
   "source": [
    "Arguments: Arguments are the actual values or data passed to a function when it is invoked. \n",
    "They correspond to the function’s parameters and provide the necessary input for the function to execute."
   ]
  },
  {
   "cell_type": "code",
   "execution_count": 4,
   "id": "2d0e89d8-ed1e-4cdd-8e2d-e26b0336b894",
   "metadata": {},
   "outputs": [
    {
     "name": "stdout",
     "output_type": "stream",
     "text": [
      "8\n"
     ]
    }
   ],
   "source": [
    "result = power(2, 3)  # Arguments: 2, 3\n",
    "print(result)  # Output: 8\n",
    "##When calling power, 2 and 3 are the arguments provided to the function, which are used to compute 2 ** 3."
   ]
  },
  {
   "cell_type": "raw",
   "id": "d2a1be78-78ea-48da-82f2-bcd61a46b4a6",
   "metadata": {},
   "source": [
    "3. What are the different ways to define and call a function in Python?"
   ]
  },
  {
   "cell_type": "raw",
   "id": "81fd108e-e95d-4754-8741-6d7f80a63c7b",
   "metadata": {},
   "source": [
    "Standard Function Definition:\n",
    "\n",
    "Functions are commonly defined using the def keyword and can be \n",
    "called by their name followed by parentheses containing any arguments."
   ]
  },
  {
   "cell_type": "code",
   "execution_count": 5,
   "id": "c04353fb-98bb-4f68-a868-29a088672524",
   "metadata": {},
   "outputs": [],
   "source": [
    "def add(x, y):\n",
    "    return x + y\n",
    "##def"
   ]
  },
  {
   "cell_type": "code",
   "execution_count": 6,
   "id": "33499c2d-15d8-40ac-b4be-e306a6b7e59f",
   "metadata": {},
   "outputs": [
    {
     "name": "stdout",
     "output_type": "stream",
     "text": [
      "15\n"
     ]
    }
   ],
   "source": [
    "result = add(7, 8)\n",
    "print(result)  # Output: 15\n",
    "##call\n",
    "##The add function takes two arguments and returns their sum. It can be called anywhere in the code after its definition."
   ]
  },
  {
   "cell_type": "raw",
   "id": "e3946f94-9761-46ab-8a9b-cf57c31aef91",
   "metadata": {},
   "source": [
    "Lambda Function (Anonymous Function):\n",
    "\n",
    "Lambda functions are small, anonymous functions defined using the lambda keyword. They are \n",
    "typically used for short-lived operations and can be used inline where functions are required."
   ]
  },
  {
   "cell_type": "code",
   "execution_count": 7,
   "id": "484a860c-1370-4caf-9d36-9f03e0d33eaa",
   "metadata": {},
   "outputs": [
    {
     "name": "stdout",
     "output_type": "stream",
     "text": [
      "16\n"
     ]
    }
   ],
   "source": [
    "#Definition and Call:\n",
    "square = lambda x: x * x\n",
    "print(square(4))  # Output: 16\n",
    "# The lambda function square performs addition. It’s often used for quick, throwaway operations."
   ]
  },
  {
   "cell_type": "raw",
   "id": "fe63aaa3-b1a0-45e4-9208-aeca9a2f65d7",
   "metadata": {},
   "source": [
    "4. What is the purpose of the 'returns statement in a Python function?"
   ]
  },
  {
   "cell_type": "raw",
   "id": "f962c9a3-4c4f-4627-9fe7-07b39249c5db",
   "metadata": {},
   "source": [
    "The return statement is used to exit a function and optionally pass an expression back to the caller.\n",
    "It allows a function to produce an output and end its execution. \n",
    "If a function does not have a return statement, it returns None by default."
   ]
  },
  {
   "cell_type": "code",
   "execution_count": 8,
   "id": "fd5cf28d-d688-4b73-a1eb-3a0c73eab697",
   "metadata": {},
   "outputs": [
    {
     "name": "stdout",
     "output_type": "stream",
     "text": [
      "6\n"
     ]
    }
   ],
   "source": [
    "#ex\n",
    "def subtract(a, b):\n",
    "    return a - b\n",
    "\n",
    "result = subtract(10, 4)\n",
    "print(result)  # Output: 6\n",
    "# The return statement in the subtract function sends the result of a - b back to the caller. \n",
    "#It allows the function to deliver a result and terminate its execution."
   ]
  },
  {
   "cell_type": "raw",
   "id": "715daef3-a877-463a-9144-1fb348c81ded",
   "metadata": {},
   "source": [
    "5. What are iterators in Python and how do they differ from iterables?"
   ]
  },
  {
   "cell_type": "raw",
   "id": "63884c86-d97b-4beb-8cda-d9020d511262",
   "metadata": {},
   "source": [
    "Iterables: Iterables are objects that can be iterated over using a loop or other iteration tools. \n",
    "They implement the __iter__() method, which returns an iterator.\n",
    "Common iterables include lists, tuples, and dictionaries."
   ]
  },
  {
   "cell_type": "code",
   "execution_count": 9,
   "id": "076c2af6-d9c9-48c1-8bb7-a121aa63a6e3",
   "metadata": {},
   "outputs": [
    {
     "name": "stdout",
     "output_type": "stream",
     "text": [
      "1\n",
      "2\n",
      "3\n"
     ]
    }
   ],
   "source": [
    "#ex\n",
    "nums = [1, 2, 3]\n",
    "for num in nums:  # nums is an iterable\n",
    "    print(num)\n",
    "##The list nums is an iterable. It can be looped through using a for loop because it implements the __iter__() method."
   ]
  },
  {
   "cell_type": "raw",
   "id": "8d9b5b74-f300-4a79-9c09-1bc403f40cf7",
   "metadata": {},
   "source": [
    "Iterators: Iterators are objects that represent a stream of data and are used to iterate over iterables. \n",
    "They implement both __iter__() and __next__() methods. Iterators maintain their state and produce items one at a time."
   ]
  },
  {
   "cell_type": "code",
   "execution_count": 10,
   "id": "7fc70d2e-cce7-49d3-8f62-e274f903bd95",
   "metadata": {},
   "outputs": [
    {
     "name": "stdout",
     "output_type": "stream",
     "text": [
      "1\n",
      "2\n"
     ]
    }
   ],
   "source": [
    "#ex\n",
    "iter_nums = iter([1, 2, 3])  # Creating an iterator\n",
    "print(next(iter_nums))  # Output: 1\n",
    "print(next(iter_nums))  # Output: 2\n",
    "##The iter_nums iterator provides the next item in the sequence\n",
    "#with each call to next(), maintaining its state between calls."
   ]
  },
  {
   "cell_type": "raw",
   "id": "92c1cb98-bd5a-4947-8c64-ed6661115d90",
   "metadata": {},
   "source": [
    "6. Explain the concept of generators in Python and how they are defined."
   ]
  },
  {
   "cell_type": "raw",
   "id": "9bf2c48b-76b1-4998-b87f-9fc06baf8b5a",
   "metadata": {},
   "source": [
    "Generators: Generators are a type of iterable, defined using a function with the yield keyword instead of return.\n",
    "They produce values lazily, meaning they generate values one at a time and only when needed, which is memory efficient."
   ]
  },
  {
   "cell_type": "code",
   "execution_count": 11,
   "id": "5bf8d3cc-827a-41d8-815f-4fc2ec76896b",
   "metadata": {},
   "outputs": [],
   "source": [
    "#definition\n",
    "def count_up_to(max):\n",
    "    count = 1\n",
    "    while count <= max:\n",
    "        yield count\n",
    "        count += 1\n"
   ]
  },
  {
   "cell_type": "code",
   "execution_count": 12,
   "id": "9155977c-924c-40b4-9168-f5861ac7a34b",
   "metadata": {},
   "outputs": [
    {
     "name": "stdout",
     "output_type": "stream",
     "text": [
      "1\n",
      "2\n"
     ]
    }
   ],
   "source": [
    "##usage\n",
    "counter = count_up_to(5)\n",
    "print(next(counter))  # Output: 1\n",
    "print(next(counter))  # Output: 2\n",
    "## The count_up_to generator yields numbers from 1 up to a given maximum. \n",
    "#Each call to next() retrieves the next value in the sequence."
   ]
  },
  {
   "cell_type": "raw",
   "id": "7d4fa157-ecb3-4080-aee0-4a701780076b",
   "metadata": {},
   "source": [
    "7. What are the advantages of using generators over regular functions?"
   ]
  },
  {
   "cell_type": "raw",
   "id": "b3d5e0ee-78f9-4b38-90b3-39fbd6e183bb",
   "metadata": {},
   "source": [
    "Memory Efficiency: Generators generate items one at a time and do \n",
    "not store the entire sequence in memory. This is useful for working with\n",
    "large datasets or streams of data.\n",
    "Lazy Evaluation: Generators compute values on-the-fly, which can reduce\n",
    "overhead and improve performance for operations that don’t require all values \n",
    "at once.\n",
    "State Persistence: Generators keep track of their state between \n",
    "yields, which allows them to resume execution where they left off."
   ]
  },
  {
   "cell_type": "raw",
   "id": "47746c86-25cd-411a-92af-953366d7a95a",
   "metadata": {},
   "source": [
    "8. What is a lambda function in Python and when is it typically used?"
   ]
  },
  {
   "cell_type": "raw",
   "id": "282b978c-4fe3-4fe0-ba61-9ce2e9af0edc",
   "metadata": {},
   "source": [
    "Lambda Function: A lambda function is a small, anonymous function defined using the lambda keyword.\n",
    "It is used for simple operations that can be expressed in a single line.\n",
    "Lambda functions are often used in places where functions are required for short-term operations."
   ]
  },
  {
   "cell_type": "code",
   "execution_count": 13,
   "id": "358280d1-5415-4229-806c-e2a8e2f2e037",
   "metadata": {},
   "outputs": [
    {
     "name": "stdout",
     "output_type": "stream",
     "text": [
      "12\n"
     ]
    }
   ],
   "source": [
    "#ex:\n",
    "add = lambda x, y: x + y\n",
    "print(add(5, 7))  # Output: 12\n"
   ]
  },
  {
   "cell_type": "code",
   "execution_count": 14,
   "id": "59bd2d97-ad49-40a3-8018-4ab224f89df1",
   "metadata": {},
   "outputs": [],
   "source": [
    "##The lambda function add performs addition. It is useful in contexts\n",
    "#where a small function is needed temporarily, such as in map(), filter(), or sorting."
   ]
  },
  {
   "cell_type": "raw",
   "id": "c1617f9a-23da-4590-a373-0bbd70fabb6d",
   "metadata": {},
   "source": [
    "9. Explain the purpose and usage of the smap()• function in Python."
   ]
  },
  {
   "cell_type": "raw",
   "id": "d4fe439b-7535-4a9a-bdbd-ebae2a013a81",
   "metadata": {},
   "source": [
    "map() Function: The map() function applies a specified function to each item in \n",
    "an iterable (like a list or tuple) and returns an iterator with the results. \n",
    "It is used to transform each item in the iterable according to the provided function."
   ]
  },
  {
   "cell_type": "code",
   "execution_count": 15,
   "id": "51f6f3ae-057f-439b-a393-a773e93bf45b",
   "metadata": {},
   "outputs": [
    {
     "name": "stdout",
     "output_type": "stream",
     "text": [
      "[1, 4, 9, 16]\n"
     ]
    }
   ],
   "source": [
    "#ex:\n",
    "numbers = [1, 2, 3, 4]\n",
    "squared = map(lambda x: x ** 2, numbers)\n",
    "print(list(squared))  # Output: [1, 4, 9, 16]\n",
    "\n"
   ]
  },
  {
   "cell_type": "code",
   "execution_count": 16,
   "id": "7252705f-ae80-47e8-b265-6bc6d8287de0",
   "metadata": {},
   "outputs": [],
   "source": [
    "##In this example, map() applies the lambda function to \n",
    "#square each number in the list. The map object is then \n",
    "#converted to a list to display the results."
   ]
  },
  {
   "cell_type": "raw",
   "id": "f6fe1cc9-de33-40b9-bc0f-400e63925e4a",
   "metadata": {},
   "source": [
    "10. What is the difference between map() , reduce and filter() function in python ?"
   ]
  },
  {
   "cell_type": "raw",
   "id": "5fe1fe9e-dacc-418f-ad22-6e49f2b8abca",
   "metadata": {},
   "source": [
    "Difference between map(), reduce(), and filter() Functions in Python\n",
    "map() Function:\n",
    "\n",
    "Purpose: Applies a given function to all items in an iterable (e.g., a list or tuple) and returns an iterator of the results.\n",
    "Usage: Transform each item in the iterable according to the specified function."
   ]
  },
  {
   "cell_type": "code",
   "execution_count": 17,
   "id": "6eb65343-c52e-4d67-a6e2-33983233691d",
   "metadata": {},
   "outputs": [
    {
     "name": "stdout",
     "output_type": "stream",
     "text": [
      "[1, 4, 9, 16]\n"
     ]
    }
   ],
   "source": [
    "##ex:\n",
    "numbers = [1, 2, 3, 4]\n",
    "squared = map(lambda x: x ** 2, numbers)\n",
    "print(list(squared))  # Output: [1, 4, 9, 16]\n"
   ]
  },
  {
   "cell_type": "code",
   "execution_count": 18,
   "id": "237ad4d3-6030-4807-98ca-8c2130e83236",
   "metadata": {},
   "outputs": [],
   "source": [
    "##The map() function applies the lambda function (which squares each number) to \n",
    "##each element in the list numbers, producing a new iterator with the squared values."
   ]
  },
  {
   "cell_type": "raw",
   "id": "3072f404-046c-4bb9-94da-da6d7c3f25b5",
   "metadata": {},
   "source": [
    "filter() Function:\n",
    "\n",
    "Purpose: Applies a given function to all items in an iterable and returns an iterator containing only the items for which the function returns True.\n",
    "Usage: Filter out items from the iterable based on a condition specified by the function."
   ]
  },
  {
   "cell_type": "code",
   "execution_count": 19,
   "id": "7cafef77-2bcf-40a4-99bd-51623431df50",
   "metadata": {},
   "outputs": [
    {
     "name": "stdout",
     "output_type": "stream",
     "text": [
      "[2, 4]\n"
     ]
    }
   ],
   "source": [
    "##ex:\n",
    "numbers = [1, 2, 3, 4, 5]\n",
    "even_numbers = filter(lambda x: x % 2 == 0, numbers)\n",
    "print(list(even_numbers))  # Output: [2, 4]\n"
   ]
  },
  {
   "cell_type": "code",
   "execution_count": 20,
   "id": "d7f06bbc-89e9-45e8-bfc4-15bf1a84e955",
   "metadata": {},
   "outputs": [],
   "source": [
    "##The filter() function uses the lambda \n",
    "#function to keep only the even numbers from the list numbers. The result is an iterator of the filtered items."
   ]
  },
  {
   "cell_type": "raw",
   "id": "2debb165-ac3f-4817-918a-9044c8bd4e8e",
   "metadata": {},
   "source": [
    "reduce() Function:\n",
    "\n",
    "Purpose: Applies a given function cumulatively to the items of an iterable, from left to right, so as to reduce the iterable to a single value.\n",
    "Usage: Combine all elements of the iterable into a single result based on the specified function. This function is available in the functools module.\n"
   ]
  },
  {
   "cell_type": "code",
   "execution_count": 21,
   "id": "ae4e2a53-3304-46b2-a698-1e253ab37c76",
   "metadata": {},
   "outputs": [
    {
     "name": "stdout",
     "output_type": "stream",
     "text": [
      "24\n"
     ]
    }
   ],
   "source": [
    "from functools import reduce\n",
    "\n",
    "numbers = [1, 2, 3, 4]\n",
    "product = reduce(lambda x, y: x * y, numbers)\n",
    "print(product)  # Output: 24\n"
   ]
  },
  {
   "cell_type": "code",
   "execution_count": 22,
   "id": "da86d51d-5d54-4fe9-b22e-1ece4fb6eb6a",
   "metadata": {},
   "outputs": [],
   "source": [
    "##The reduce() function applies the lambda function to combine all elements of the list\n",
    "#numbers into a single value, which is the product of all numbers."
   ]
  },
  {
   "cell_type": "raw",
   "id": "9a56f625-48bd-4307-a31f-0cf90930209e",
   "metadata": {},
   "source": [
    "11. Using pen & Paper write the internal mechanism for sum operation using  reduce function on this given\n",
    "list:[47,11,42,13]; "
   ]
  },
  {
   "cell_type": "code",
   "execution_count": null,
   "id": "85d9288d-b4ac-499d-99be-22434ed3828f",
   "metadata": {},
   "outputs": [],
   "source": [
    "image >>>>>"
   ]
  },
  {
   "cell_type": "raw",
   "id": "a9a1e116-db18-4802-8be0-0f3f80254ea1",
   "metadata": {},
   "source": [
    "Practical Questions>>>"
   ]
  },
  {
   "cell_type": "raw",
   "id": "1774e166-1df0-4cf9-8762-f4baa7f0513d",
   "metadata": {},
   "source": [
    "1. Write a Python function that takes a list of numbers as input and returns the sum of all even numbers in\n",
    "the list."
   ]
  },
  {
   "cell_type": "code",
   "execution_count": 23,
   "id": "ac5f08ee-196b-4c70-a1be-3785b8723349",
   "metadata": {},
   "outputs": [
    {
     "name": "stdout",
     "output_type": "stream",
     "text": [
      "6\n"
     ]
    }
   ],
   "source": [
    "def sum_of_evens(numbers):\n",
    "    return sum(num for num in numbers if num % 2 == 0)\n",
    "\n",
    "# Example\n",
    "numbers = [1, 2, 3, 4, 5]\n",
    "print(sum_of_evens(numbers))  \n"
   ]
  },
  {
   "cell_type": "raw",
   "id": "fbef6570-5de8-4f79-9b6a-72b02b3e4a50",
   "metadata": {},
   "source": [
    "2. Create a Python function that accepts a string and returns the reverse of that string."
   ]
  },
  {
   "cell_type": "code",
   "execution_count": 24,
   "id": "967a5baa-3ebd-4acd-bbdb-280aa37f0f83",
   "metadata": {},
   "outputs": [
    {
     "name": "stdout",
     "output_type": "stream",
     "text": [
      "tekinA olleh\n"
     ]
    }
   ],
   "source": [
    "\n",
    "def reverse_string(s):\n",
    "    return s[::-1]\n",
    "\n",
    "# Example \n",
    "s = \"hello Aniket\"\n",
    "print(reverse_string(s)) \n",
    "\n"
   ]
  },
  {
   "cell_type": "raw",
   "id": "d90fd6c3-4b52-46b2-acee-9741876d89ac",
   "metadata": {},
   "source": [
    "3. Implement a Python function that takes a list of integers and returns a new list containing the squares of\n",
    " each number"
   ]
  },
  {
   "cell_type": "code",
   "execution_count": 25,
   "id": "6b4713b8-4752-47f7-b6fa-34b0afc9828e",
   "metadata": {},
   "outputs": [
    {
     "name": "stdout",
     "output_type": "stream",
     "text": [
      "[1, 4, 9, 16]\n"
     ]
    }
   ],
   "source": [
    "\n",
    "def square_list(numbers):\n",
    "    return [num ** 2 for num in numbers]\n",
    "\n",
    "# Example usage:\n",
    "numbers = [1, 2, 3, 4]\n",
    "print(square_list(numbers))  \n"
   ]
  },
  {
   "cell_type": "raw",
   "id": "7ddbca34-a319-455e-86ca-2ad7af781188",
   "metadata": {},
   "source": [
    "4. Write a Python function that checks if a given number is prime or not from 1 to 200."
   ]
  },
  {
   "cell_type": "code",
   "execution_count": 26,
   "id": "3d027c4e-ba8d-4716-b808-c1bd7d670580",
   "metadata": {},
   "outputs": [
    {
     "name": "stdout",
     "output_type": "stream",
     "text": [
      "2 is a prime number\n",
      "3 is a prime number\n",
      "5 is a prime number\n",
      "7 is a prime number\n",
      "11 is a prime number\n",
      "13 is a prime number\n",
      "17 is a prime number\n",
      "19 is a prime number\n",
      "23 is a prime number\n",
      "29 is a prime number\n",
      "31 is a prime number\n",
      "37 is a prime number\n",
      "41 is a prime number\n",
      "43 is a prime number\n",
      "47 is a prime number\n",
      "53 is a prime number\n",
      "59 is a prime number\n",
      "61 is a prime number\n",
      "67 is a prime number\n",
      "71 is a prime number\n",
      "73 is a prime number\n",
      "79 is a prime number\n",
      "83 is a prime number\n",
      "89 is a prime number\n",
      "97 is a prime number\n",
      "101 is a prime number\n",
      "103 is a prime number\n",
      "107 is a prime number\n",
      "109 is a prime number\n",
      "113 is a prime number\n",
      "127 is a prime number\n",
      "131 is a prime number\n",
      "137 is a prime number\n",
      "139 is a prime number\n",
      "149 is a prime number\n",
      "151 is a prime number\n",
      "157 is a prime number\n",
      "163 is a prime number\n",
      "167 is a prime number\n",
      "173 is a prime number\n",
      "179 is a prime number\n",
      "181 is a prime number\n",
      "191 is a prime number\n",
      "193 is a prime number\n",
      "197 is a prime number\n",
      "199 is a prime number\n"
     ]
    }
   ],
   "source": [
    "def is_prime(n):\n",
    "    if n <= 1:\n",
    "        return False\n",
    "    for i in range(2, int(n**0.5) + 1):\n",
    "        if n % i == 0:\n",
    "            return False\n",
    "    return True\n",
    "\n",
    "# Example usage:\n",
    "for i in range(1, 201):\n",
    "    if is_prime(i):\n",
    "        print(i, \"is a prime number\")\n"
   ]
  },
  {
   "cell_type": "raw",
   "id": "39d819c0-a680-44d4-b425-8798f200dbf5",
   "metadata": {},
   "source": [
    "5. Create an iterator class in Python that generates the Fibonacci sequence up to a specified number of terms."
   ]
  },
  {
   "cell_type": "code",
   "execution_count": 27,
   "id": "64510c33-4e61-4211-aff1-049e4a866922",
   "metadata": {},
   "outputs": [
    {
     "name": "stdout",
     "output_type": "stream",
     "text": [
      "1\n",
      "1\n",
      "2\n",
      "3\n",
      "5\n",
      "8\n",
      "13\n"
     ]
    }
   ],
   "source": [
    "\n",
    "class Fibonacci:\n",
    "    def __init__(self, n):\n",
    "        self.n = n\n",
    "        self.a, self.b = 0, 1\n",
    "        self.count = 0\n",
    "    \n",
    "    def __iter__(self):\n",
    "        return self\n",
    "    \n",
    "    def __next__(self):\n",
    "        if self.count < self.n:\n",
    "            self.a, self.b = self.b, self.a + self.b\n",
    "            self.count += 1\n",
    "            return self.a\n",
    "        else:\n",
    "            raise StopIteration\n",
    "\n",
    "# Example usage:\n",
    "fib = Fibonacci(7)\n",
    "for num in fib:\n",
    "    print(num)\n"
   ]
  },
  {
   "cell_type": "raw",
   "id": "1db20fc7-1ed1-4ba2-82a0-1b4df1db042a",
   "metadata": {},
   "source": [
    "6. Write a generator function in Python that yields the powers of 2 up to a given exponent."
   ]
  },
  {
   "cell_type": "code",
   "execution_count": 28,
   "id": "d9e9471a-e4cc-4c88-839e-bcd64bec22fe",
   "metadata": {},
   "outputs": [
    {
     "name": "stdout",
     "output_type": "stream",
     "text": [
      "1\n",
      "2\n",
      "4\n",
      "8\n",
      "16\n",
      "32\n"
     ]
    }
   ],
   "source": [
    "def powers_of_2(exp):\n",
    "    for i in range(exp + 1):\n",
    "        yield 2 ** i\n",
    "\n",
    "# Example usage:\n",
    "for value in powers_of_2(5):\n",
    "    print(value)\n"
   ]
  },
  {
   "cell_type": "raw",
   "id": "10832ef0-af55-45b2-92b9-be1f2fe0d58f",
   "metadata": {},
   "source": [
    "7. Implement a generator function that reads a file line by line and yields each line as a string."
   ]
  },
  {
   "cell_type": "code",
   "execution_count": null,
   "id": "f9468c57-41fc-4280-b723-d9533524586f",
   "metadata": {},
   "outputs": [],
   "source": [
    "def read_lines(file_path):\n",
    "    for line in open(file_path, 'r'):\n",
    "        yield line.strip()\n",
    "\n",
    "# Example usage:\n",
    "for line in read_lines('example.txt'):\n",
    "    print(line)\n"
   ]
  },
  {
   "cell_type": "raw",
   "id": "8b0f8239-5ff3-41ab-974c-e4e482cb5640",
   "metadata": {},
   "source": [
    "8. Use a lambda function in Python to sort a list of tuples based on the second element of each tuple."
   ]
  },
  {
   "cell_type": "code",
   "execution_count": null,
   "id": "e2e30d86-d95a-4651-aedb-17972c151dcc",
   "metadata": {},
   "outputs": [],
   "source": [
    "tuples = [(1, 'one'), (3, 'three'), (2, 'two')]\n",
    "sorted_tuples = sorted(tuples, key=lambda x: x[1])\n",
    "print(sorted_tuples)  # Output: [(1, 'one'), (3, 'three'), (2, 'two')]\n"
   ]
  },
  {
   "cell_type": "raw",
   "id": "7b4b7c4c-307a-4d94-9617-2f481576694e",
   "metadata": {},
   "source": [
    "9. Write a Python program that uses `map()` to convert a list of temperatures from Celsius to Fahrenheit."
   ]
  },
  {
   "cell_type": "code",
   "execution_count": null,
   "id": "452b1a0a-b253-4318-9a9a-71a66f49c2ae",
   "metadata": {},
   "outputs": [],
   "source": [
    "def celsius_to_fahrenheit(c):\n",
    "    return (c * 9/5) + 32\n",
    "\n",
    "celsius_temps = [0, 20, 37, 100]\n",
    "fahrenheit_temps = list(map(celsius_to_fahrenheit, celsius_temps))\n",
    "print(fahrenheit_temps)  # Output: [32.0, 68.0, 98.6, 212.0]\n"
   ]
  },
  {
   "cell_type": "raw",
   "id": "26a3610c-ad8d-46bd-9a0e-06f4e48f7a80",
   "metadata": {},
   "source": [
    "10. Create a Python program that uses `filter()` to remove all the vowels from a given string"
   ]
  },
  {
   "cell_type": "code",
   "execution_count": null,
   "id": "f07a9954-0766-4f20-9946-64f866fefb07",
   "metadata": {},
   "outputs": [],
   "source": [
    "def remove_vowels(s):\n",
    "    vowels = \"aeiouAEIOU\"\n",
    "    return ''.join(filter(lambda char: char not in vowels, s))\n",
    "\n",
    "# Example usage:\n",
    "string = \"Hello World\"\n",
    "print(remove_vowels(string))  # Output: \"Hll Wrld\"\n"
   ]
  },
  {
   "cell_type": "raw",
   "id": "b3371c6b-9aca-490b-a7e8-0ccdc2e39c1d",
   "metadata": {},
   "source": [
    "11) Imagine an accounting routine used in a book shop. It works on a list with sublists, which look like this:           image>>>>>\n",
    "Write a Python program, which returns a list with 2-tuples. Each tuple consists of the order number and the\n",
    "product of the price per item and the quantity. The product should be increased by 10,- € if the value of the\n",
    "order is smaller than 100,00 €.\n",
    "\n",
    "Write a Python program using lambda and map."
   ]
  },
  {
   "cell_type": "code",
   "execution_count": null,
   "id": "4d50f7f3-6c89-41e1-a7cf-92f9529746dd",
   "metadata": {},
   "outputs": [],
   "source": [
    "orders = [\n",
    "    [\"34587\", \"Learning Python, Mark Lutz\", 4, 40.95],\n",
    "    [\"98762\", \"Programming Python, Mark Lutz\", 5, 56.80],\n",
    "    [\"77226\", \"Head First Python, Paul Barry\", 3, 32.95],\n",
    "    [\"88112\", \"Einführung in Python3, Bernd Klein\", 3, 24.99]\n",
    "]\n",
    "\n",
    "order_totals = list(map(lambda order: (order[0], round(order[2] * order[3] + 10 if order[2] * order[3] < 100 else order[2] * order[3], 2)), orders))\n",
    "print(order_totals)\n",
    "# Output: [('34587', 163.8), ('98762', 284.0), ('77226', 98.85), ('88112', 84.97)]\n"
   ]
  },
  {
   "cell_type": "code",
   "execution_count": null,
   "id": "079316ca-ac9b-484b-b5de-dc64c0285a98",
   "metadata": {},
   "outputs": [],
   "source": []
  }
 ],
 "metadata": {
  "kernelspec": {
   "display_name": "Python 3 (ipykernel)",
   "language": "python",
   "name": "python3"
  },
  "language_info": {
   "codemirror_mode": {
    "name": "ipython",
    "version": 3
   },
   "file_extension": ".py",
   "mimetype": "text/x-python",
   "name": "python",
   "nbconvert_exporter": "python",
   "pygments_lexer": "ipython3",
   "version": "3.10.8"
  }
 },
 "nbformat": 4,
 "nbformat_minor": 5
}
